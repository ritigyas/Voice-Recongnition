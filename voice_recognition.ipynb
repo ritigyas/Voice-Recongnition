{
  "nbformat": 4,
  "nbformat_minor": 0,
  "metadata": {
    "colab": {
      "provenance": [],
      "authorship_tag": "ABX9TyOQ3ofqERjKa8g/oPQzdwT+",
      "include_colab_link": true
    },
    "kernelspec": {
      "name": "python3",
      "display_name": "Python 3"
    },
    "language_info": {
      "name": "python"
    }
  },
  "cells": [
    {
      "cell_type": "markdown",
      "metadata": {
        "id": "view-in-github",
        "colab_type": "text"
      },
      "source": [
        "<a href=\"https://colab.research.google.com/github/arshiabagchi/Voice-Recognition-/blob/main/voice_recognition.ipynb\" target=\"_parent\"><img src=\"https://colab.research.google.com/assets/colab-badge.svg\" alt=\"Open In Colab\"/></a>"
      ]
    },
    {
      "cell_type": "code",
      "execution_count": 9,
      "metadata": {
        "colab": {
          "base_uri": "https://localhost:8080/"
        },
        "id": "mTzyMBlLp9Ve",
        "outputId": "d0a8ed7a-049f-4273-e1ba-69b96d74b7c5"
      },
      "outputs": [
        {
          "output_type": "stream",
          "name": "stdout",
          "text": [
            "Drive already mounted at /content/drive; to attempt to forcibly remount, call drive.mount(\"/content/drive\", force_remount=True).\n",
            "Dataset is stored at: /content/drive/MyDrive/voice_recognition_dataset\n"
          ]
        }
      ],
      "source": [
        "\n",
        "from google.colab import drive\n",
        "import os\n",
        "\n",
        "# Mount Google Drive\n",
        "drive.mount('/content/drive')\n",
        "\n",
        "# Define the dataset path inside Google Drive\n",
        "dataset_dir = \"/content/drive/MyDrive/voice_recognition_dataset\"\n",
        "\n",
        "# Create the folder if it doesn’t exist\n",
        "if not os.path.exists(dataset_dir):\n",
        "    os.makedirs(dataset_dir)\n",
        "\n",
        "print(f\"Dataset is stored at: {dataset_dir}\")"
      ]
    },
    {
      "cell_type": "code",
      "source": [
        "from IPython.display import display, Javascript\n",
        "from google.colab.output import eval_js\n",
        "import os\n",
        "import base64\n",
        "import wave\n",
        "\n",
        "# Function to record audio\n",
        "def record_audio(person_name, audio_count, duration=5):\n",
        "    js = Javascript('''\n",
        "        async function recordAudio(duration) {\n",
        "            const stream = await navigator.mediaDevices.getUserMedia({ audio: true });\n",
        "            const mediaRecorder = new MediaRecorder(stream);\n",
        "            let chunks = [];\n",
        "\n",
        "            mediaRecorder.ondataavailable = event => chunks.push(event.data);\n",
        "            mediaRecorder.start();\n",
        "\n",
        "            await new Promise(resolve => setTimeout(resolve, duration * 1000));\n",
        "\n",
        "            mediaRecorder.stop();\n",
        "            await new Promise(resolve => mediaRecorder.onstop = resolve);\n",
        "\n",
        "            const blob = new Blob(chunks, { type: 'audio/wav' });\n",
        "            const reader = new FileReader();\n",
        "            reader.readAsDataURL(blob);\n",
        "            await new Promise(resolve => reader.onloadend = resolve);\n",
        "            return reader.result;\n",
        "        }\n",
        "    ''')\n",
        "    display(js)\n",
        "    data = eval_js(f'recordAudio({duration})')\n",
        "    audio_binary = base64.b64decode(data.split(',')[1])\n",
        "\n",
        "    # Define path in Google Drive\n",
        "    person_folder = os.path.join(dataset_dir, person_name)\n",
        "    if not os.path.exists(person_folder):\n",
        "        os.makedirs(person_folder)\n",
        "\n",
        "    filename = os.path.join(person_folder, f\"{person_name}_{audio_count}.wav\")\n",
        "\n",
        "    # Save audio\n",
        "    with open(filename, 'wb') as f:\n",
        "        f.write(audio_binary)\n",
        "\n",
        "    print(f\"✅ Audio saved at: {filename}\")\n",
        "    print(f\"🗂 Check folder: {person_folder}\")\n",
        "\n",
        "    return filename\n",
        "\n",
        "# Function to validate the dataset (ensure each label has at least one audio file)\n",
        "def validate_dataset(dataset_dir):\n",
        "    class_names = sorted([f for f in os.listdir(dataset_dir) if not f.startswith('.')])\n",
        "\n",
        "    for person_name in class_names:\n",
        "        person_folder = os.path.join(dataset_dir, person_name)\n",
        "        if not os.path.isdir(person_folder):\n",
        "            continue\n",
        "\n",
        "        audio_files = [f for f in os.listdir(person_folder) if f.lower().endswith('.wav')]\n",
        "\n",
        "        if len(audio_files) == 0:\n",
        "            print(f\"Warning: {person_name} has no valid audio files.\")\n",
        "        else:\n",
        "            print(f\"{person_name} has {len(audio_files)} audio files.\")\n",
        "\n",
        "# Main function to capture labeled audio\n",
        "def capture_labeled_audio():\n",
        "    while True:\n",
        "        person_name = input(\"Enter the person's name (or 'q' to quit): \").strip()\n",
        "        if person_name.lower() == 'q':\n",
        "            print(\"Exiting...\")\n",
        "            break\n",
        "\n",
        "        print(f\"Recording audio for {person_name}. Speak after clicking 'Record'.\")\n",
        "\n",
        "        audio_count = 0\n",
        "        while True:\n",
        "            record_audio(person_name, audio_count)\n",
        "            audio_count += 1\n",
        "\n",
        "            another = input(\"Record another audio sample? (y/n): \").strip().lower()\n",
        "            if another != 'y':\n",
        "                print(f\"Finished recording audio for {person_name}.\")\n",
        "                break\n",
        "\n",
        "# Run the function to start recording audio\n",
        "capture_labeled_audio()\n",
        "\n",
        "# After recording, validate the dataset\n",
        "validate_dataset(dataset_dir)\n"
      ],
      "metadata": {
        "colab": {
          "base_uri": "https://localhost:8080/",
          "height": 659
        },
        "id": "ms2Uka91qRmp",
        "outputId": "5b82b238-e40b-479c-d830-2f5c60dad1d2"
      },
      "execution_count": 10,
      "outputs": [
        {
          "output_type": "stream",
          "name": "stdout",
          "text": [
            "Enter the person's name (or 'q' to quit): aruv\n",
            "Recording audio for aruv. Speak after clicking 'Record'.\n"
          ]
        },
        {
          "output_type": "display_data",
          "data": {
            "text/plain": [
              "<IPython.core.display.Javascript object>"
            ],
            "application/javascript": [
              "\n",
              "        async function recordAudio(duration) {\n",
              "            const stream = await navigator.mediaDevices.getUserMedia({ audio: true });\n",
              "            const mediaRecorder = new MediaRecorder(stream);\n",
              "            let chunks = [];\n",
              "\n",
              "            mediaRecorder.ondataavailable = event => chunks.push(event.data);\n",
              "            mediaRecorder.start();\n",
              "            \n",
              "            await new Promise(resolve => setTimeout(resolve, duration * 1000));\n",
              "            \n",
              "            mediaRecorder.stop();\n",
              "            await new Promise(resolve => mediaRecorder.onstop = resolve);\n",
              "            \n",
              "            const blob = new Blob(chunks, { type: 'audio/wav' });\n",
              "            const reader = new FileReader();\n",
              "            reader.readAsDataURL(blob);\n",
              "            await new Promise(resolve => reader.onloadend = resolve);\n",
              "            return reader.result;\n",
              "        }\n",
              "    "
            ]
          },
          "metadata": {}
        },
        {
          "name": "stdout",
          "output_type": "stream",
          "text": [
            "✅ Audio saved at: /content/drive/MyDrive/voice_recognition_dataset/aruv/aruv_0.wav\n",
            "🗂 Check folder: /content/drive/MyDrive/voice_recognition_dataset/aruv\n",
            "Record another audio sample? (y/n): y\n"
          ]
        },
        {
          "output_type": "display_data",
          "data": {
            "text/plain": [
              "<IPython.core.display.Javascript object>"
            ],
            "application/javascript": [
              "\n",
              "        async function recordAudio(duration) {\n",
              "            const stream = await navigator.mediaDevices.getUserMedia({ audio: true });\n",
              "            const mediaRecorder = new MediaRecorder(stream);\n",
              "            let chunks = [];\n",
              "\n",
              "            mediaRecorder.ondataavailable = event => chunks.push(event.data);\n",
              "            mediaRecorder.start();\n",
              "            \n",
              "            await new Promise(resolve => setTimeout(resolve, duration * 1000));\n",
              "            \n",
              "            mediaRecorder.stop();\n",
              "            await new Promise(resolve => mediaRecorder.onstop = resolve);\n",
              "            \n",
              "            const blob = new Blob(chunks, { type: 'audio/wav' });\n",
              "            const reader = new FileReader();\n",
              "            reader.readAsDataURL(blob);\n",
              "            await new Promise(resolve => reader.onloadend = resolve);\n",
              "            return reader.result;\n",
              "        }\n",
              "    "
            ]
          },
          "metadata": {}
        },
        {
          "name": "stdout",
          "output_type": "stream",
          "text": [
            "✅ Audio saved at: /content/drive/MyDrive/voice_recognition_dataset/aruv/aruv_1.wav\n",
            "🗂 Check folder: /content/drive/MyDrive/voice_recognition_dataset/aruv\n",
            "Record another audio sample? (y/n): y\n"
          ]
        },
        {
          "output_type": "display_data",
          "data": {
            "text/plain": [
              "<IPython.core.display.Javascript object>"
            ],
            "application/javascript": [
              "\n",
              "        async function recordAudio(duration) {\n",
              "            const stream = await navigator.mediaDevices.getUserMedia({ audio: true });\n",
              "            const mediaRecorder = new MediaRecorder(stream);\n",
              "            let chunks = [];\n",
              "\n",
              "            mediaRecorder.ondataavailable = event => chunks.push(event.data);\n",
              "            mediaRecorder.start();\n",
              "            \n",
              "            await new Promise(resolve => setTimeout(resolve, duration * 1000));\n",
              "            \n",
              "            mediaRecorder.stop();\n",
              "            await new Promise(resolve => mediaRecorder.onstop = resolve);\n",
              "            \n",
              "            const blob = new Blob(chunks, { type: 'audio/wav' });\n",
              "            const reader = new FileReader();\n",
              "            reader.readAsDataURL(blob);\n",
              "            await new Promise(resolve => reader.onloadend = resolve);\n",
              "            return reader.result;\n",
              "        }\n",
              "    "
            ]
          },
          "metadata": {}
        },
        {
          "name": "stdout",
          "output_type": "stream",
          "text": [
            "✅ Audio saved at: /content/drive/MyDrive/voice_recognition_dataset/aruv/aruv_2.wav\n",
            "🗂 Check folder: /content/drive/MyDrive/voice_recognition_dataset/aruv\n",
            "Record another audio sample? (y/n): y\n"
          ]
        },
        {
          "output_type": "display_data",
          "data": {
            "text/plain": [
              "<IPython.core.display.Javascript object>"
            ],
            "application/javascript": [
              "\n",
              "        async function recordAudio(duration) {\n",
              "            const stream = await navigator.mediaDevices.getUserMedia({ audio: true });\n",
              "            const mediaRecorder = new MediaRecorder(stream);\n",
              "            let chunks = [];\n",
              "\n",
              "            mediaRecorder.ondataavailable = event => chunks.push(event.data);\n",
              "            mediaRecorder.start();\n",
              "            \n",
              "            await new Promise(resolve => setTimeout(resolve, duration * 1000));\n",
              "            \n",
              "            mediaRecorder.stop();\n",
              "            await new Promise(resolve => mediaRecorder.onstop = resolve);\n",
              "            \n",
              "            const blob = new Blob(chunks, { type: 'audio/wav' });\n",
              "            const reader = new FileReader();\n",
              "            reader.readAsDataURL(blob);\n",
              "            await new Promise(resolve => reader.onloadend = resolve);\n",
              "            return reader.result;\n",
              "        }\n",
              "    "
            ]
          },
          "metadata": {}
        },
        {
          "name": "stdout",
          "output_type": "stream",
          "text": [
            "✅ Audio saved at: /content/drive/MyDrive/voice_recognition_dataset/aruv/aruv_3.wav\n",
            "🗂 Check folder: /content/drive/MyDrive/voice_recognition_dataset/aruv\n",
            "Record another audio sample? (y/n): y\n"
          ]
        },
        {
          "output_type": "display_data",
          "data": {
            "text/plain": [
              "<IPython.core.display.Javascript object>"
            ],
            "application/javascript": [
              "\n",
              "        async function recordAudio(duration) {\n",
              "            const stream = await navigator.mediaDevices.getUserMedia({ audio: true });\n",
              "            const mediaRecorder = new MediaRecorder(stream);\n",
              "            let chunks = [];\n",
              "\n",
              "            mediaRecorder.ondataavailable = event => chunks.push(event.data);\n",
              "            mediaRecorder.start();\n",
              "            \n",
              "            await new Promise(resolve => setTimeout(resolve, duration * 1000));\n",
              "            \n",
              "            mediaRecorder.stop();\n",
              "            await new Promise(resolve => mediaRecorder.onstop = resolve);\n",
              "            \n",
              "            const blob = new Blob(chunks, { type: 'audio/wav' });\n",
              "            const reader = new FileReader();\n",
              "            reader.readAsDataURL(blob);\n",
              "            await new Promise(resolve => reader.onloadend = resolve);\n",
              "            return reader.result;\n",
              "        }\n",
              "    "
            ]
          },
          "metadata": {}
        },
        {
          "name": "stdout",
          "output_type": "stream",
          "text": [
            "✅ Audio saved at: /content/drive/MyDrive/voice_recognition_dataset/aruv/aruv_4.wav\n",
            "🗂 Check folder: /content/drive/MyDrive/voice_recognition_dataset/aruv\n",
            "Record another audio sample? (y/n): y\n"
          ]
        },
        {
          "output_type": "display_data",
          "data": {
            "text/plain": [
              "<IPython.core.display.Javascript object>"
            ],
            "application/javascript": [
              "\n",
              "        async function recordAudio(duration) {\n",
              "            const stream = await navigator.mediaDevices.getUserMedia({ audio: true });\n",
              "            const mediaRecorder = new MediaRecorder(stream);\n",
              "            let chunks = [];\n",
              "\n",
              "            mediaRecorder.ondataavailable = event => chunks.push(event.data);\n",
              "            mediaRecorder.start();\n",
              "            \n",
              "            await new Promise(resolve => setTimeout(resolve, duration * 1000));\n",
              "            \n",
              "            mediaRecorder.stop();\n",
              "            await new Promise(resolve => mediaRecorder.onstop = resolve);\n",
              "            \n",
              "            const blob = new Blob(chunks, { type: 'audio/wav' });\n",
              "            const reader = new FileReader();\n",
              "            reader.readAsDataURL(blob);\n",
              "            await new Promise(resolve => reader.onloadend = resolve);\n",
              "            return reader.result;\n",
              "        }\n",
              "    "
            ]
          },
          "metadata": {}
        },
        {
          "name": "stdout",
          "output_type": "stream",
          "text": [
            "✅ Audio saved at: /content/drive/MyDrive/voice_recognition_dataset/aruv/aruv_5.wav\n",
            "🗂 Check folder: /content/drive/MyDrive/voice_recognition_dataset/aruv\n",
            "Record another audio sample? (y/n): y\n"
          ]
        },
        {
          "output_type": "display_data",
          "data": {
            "text/plain": [
              "<IPython.core.display.Javascript object>"
            ],
            "application/javascript": [
              "\n",
              "        async function recordAudio(duration) {\n",
              "            const stream = await navigator.mediaDevices.getUserMedia({ audio: true });\n",
              "            const mediaRecorder = new MediaRecorder(stream);\n",
              "            let chunks = [];\n",
              "\n",
              "            mediaRecorder.ondataavailable = event => chunks.push(event.data);\n",
              "            mediaRecorder.start();\n",
              "            \n",
              "            await new Promise(resolve => setTimeout(resolve, duration * 1000));\n",
              "            \n",
              "            mediaRecorder.stop();\n",
              "            await new Promise(resolve => mediaRecorder.onstop = resolve);\n",
              "            \n",
              "            const blob = new Blob(chunks, { type: 'audio/wav' });\n",
              "            const reader = new FileReader();\n",
              "            reader.readAsDataURL(blob);\n",
              "            await new Promise(resolve => reader.onloadend = resolve);\n",
              "            return reader.result;\n",
              "        }\n",
              "    "
            ]
          },
          "metadata": {}
        },
        {
          "name": "stdout",
          "output_type": "stream",
          "text": [
            "✅ Audio saved at: /content/drive/MyDrive/voice_recognition_dataset/aruv/aruv_6.wav\n",
            "🗂 Check folder: /content/drive/MyDrive/voice_recognition_dataset/aruv\n",
            "Record another audio sample? (y/n): y\n"
          ]
        },
        {
          "output_type": "display_data",
          "data": {
            "text/plain": [
              "<IPython.core.display.Javascript object>"
            ],
            "application/javascript": [
              "\n",
              "        async function recordAudio(duration) {\n",
              "            const stream = await navigator.mediaDevices.getUserMedia({ audio: true });\n",
              "            const mediaRecorder = new MediaRecorder(stream);\n",
              "            let chunks = [];\n",
              "\n",
              "            mediaRecorder.ondataavailable = event => chunks.push(event.data);\n",
              "            mediaRecorder.start();\n",
              "            \n",
              "            await new Promise(resolve => setTimeout(resolve, duration * 1000));\n",
              "            \n",
              "            mediaRecorder.stop();\n",
              "            await new Promise(resolve => mediaRecorder.onstop = resolve);\n",
              "            \n",
              "            const blob = new Blob(chunks, { type: 'audio/wav' });\n",
              "            const reader = new FileReader();\n",
              "            reader.readAsDataURL(blob);\n",
              "            await new Promise(resolve => reader.onloadend = resolve);\n",
              "            return reader.result;\n",
              "        }\n",
              "    "
            ]
          },
          "metadata": {}
        },
        {
          "name": "stdout",
          "output_type": "stream",
          "text": [
            "✅ Audio saved at: /content/drive/MyDrive/voice_recognition_dataset/aruv/aruv_7.wav\n",
            "🗂 Check folder: /content/drive/MyDrive/voice_recognition_dataset/aruv\n",
            "Record another audio sample? (y/n): y\n"
          ]
        },
        {
          "output_type": "display_data",
          "data": {
            "text/plain": [
              "<IPython.core.display.Javascript object>"
            ],
            "application/javascript": [
              "\n",
              "        async function recordAudio(duration) {\n",
              "            const stream = await navigator.mediaDevices.getUserMedia({ audio: true });\n",
              "            const mediaRecorder = new MediaRecorder(stream);\n",
              "            let chunks = [];\n",
              "\n",
              "            mediaRecorder.ondataavailable = event => chunks.push(event.data);\n",
              "            mediaRecorder.start();\n",
              "            \n",
              "            await new Promise(resolve => setTimeout(resolve, duration * 1000));\n",
              "            \n",
              "            mediaRecorder.stop();\n",
              "            await new Promise(resolve => mediaRecorder.onstop = resolve);\n",
              "            \n",
              "            const blob = new Blob(chunks, { type: 'audio/wav' });\n",
              "            const reader = new FileReader();\n",
              "            reader.readAsDataURL(blob);\n",
              "            await new Promise(resolve => reader.onloadend = resolve);\n",
              "            return reader.result;\n",
              "        }\n",
              "    "
            ]
          },
          "metadata": {}
        },
        {
          "name": "stdout",
          "output_type": "stream",
          "text": [
            "✅ Audio saved at: /content/drive/MyDrive/voice_recognition_dataset/aruv/aruv_8.wav\n",
            "🗂 Check folder: /content/drive/MyDrive/voice_recognition_dataset/aruv\n",
            "Record another audio sample? (y/n): y\n"
          ]
        },
        {
          "output_type": "display_data",
          "data": {
            "text/plain": [
              "<IPython.core.display.Javascript object>"
            ],
            "application/javascript": [
              "\n",
              "        async function recordAudio(duration) {\n",
              "            const stream = await navigator.mediaDevices.getUserMedia({ audio: true });\n",
              "            const mediaRecorder = new MediaRecorder(stream);\n",
              "            let chunks = [];\n",
              "\n",
              "            mediaRecorder.ondataavailable = event => chunks.push(event.data);\n",
              "            mediaRecorder.start();\n",
              "            \n",
              "            await new Promise(resolve => setTimeout(resolve, duration * 1000));\n",
              "            \n",
              "            mediaRecorder.stop();\n",
              "            await new Promise(resolve => mediaRecorder.onstop = resolve);\n",
              "            \n",
              "            const blob = new Blob(chunks, { type: 'audio/wav' });\n",
              "            const reader = new FileReader();\n",
              "            reader.readAsDataURL(blob);\n",
              "            await new Promise(resolve => reader.onloadend = resolve);\n",
              "            return reader.result;\n",
              "        }\n",
              "    "
            ]
          },
          "metadata": {}
        },
        {
          "output_type": "stream",
          "name": "stdout",
          "text": [
            "✅ Audio saved at: /content/drive/MyDrive/voice_recognition_dataset/aruv/aruv_9.wav\n",
            "🗂 Check folder: /content/drive/MyDrive/voice_recognition_dataset/aruv\n",
            "Record another audio sample? (y/n): n\n",
            "Finished recording audio for aruv.\n",
            "Enter the person's name (or 'q' to quit): q\n",
            "Exiting...\n",
            "arshia has 5 audio files.\n",
            "aruv has 10 audio files.\n"
          ]
        }
      ]
    },
    {
      "cell_type": "code",
      "source": [
        "import os\n",
        "import numpy as np\n",
        "import librosa\n",
        "from sklearn.model_selection import train_test_split\n",
        "\n",
        "dataset_dir = \"/content/drive/MyDrive/voice_recognition_dataset\"\n",
        "\n",
        "# List folders (skip hidden folders like .ipynb_checkpoints)\n",
        "class_names = sorted([f for f in os.listdir(dataset_dir) if not f.startswith('.')])\n",
        "\n",
        "# Print the class names (person names) to ensure they are in the correct order\n",
        "print(\"Class names (labels):\", class_names)\n",
        "\n",
        "# Initialize lists to store features and labels\n",
        "audio_features = []\n",
        "labels = []\n",
        "\n",
        "# Loop through each person's folder and load audio files\n",
        "for label, person_name in enumerate(class_names):\n",
        "    person_folder = os.path.join(dataset_dir, person_name)\n",
        "\n",
        "    if os.path.isdir(person_folder):\n",
        "        # Sort the audio files to ensure correct order\n",
        "        audio_files = sorted([f for f in os.listdir(person_folder) if f.lower().endswith('.wav')])\n",
        "\n",
        "        if len(audio_files) > 0:\n",
        "            for audio_name in audio_files:\n",
        "                audio_path = os.path.join(person_folder, audio_name)\n",
        "                # Load the audio file and extract features\n",
        "                y, sr = librosa.load(audio_path, sr=22050)\n",
        "                mfcc = librosa.feature.mfcc(y=y, sr=sr, n_mfcc=40)  # Extract 40 MFCC features\n",
        "                mfcc = np.mean(mfcc, axis=1)  # Take the mean across time axis\n",
        "                audio_features.append(mfcc)\n",
        "                labels.append(label)\n",
        "        else:\n",
        "            print(f\"Warning: {person_name} has no valid audio files.\")\n",
        "    else:\n",
        "        print(f\"Warning: {person_name} is not a valid directory or is empty.\")\n",
        "\n",
        "# Convert lists to NumPy arrays\n",
        "audio_features = np.array(audio_features)\n",
        "labels = np.array(labels)\n",
        "\n",
        "# Verify label-audio alignment after loading the dataset\n",
        "for i in range(5):  # Checking first 5 audio samples and their labels\n",
        "    print(f\"Audio {i}: Label = {labels[i]} -> {class_names[labels[i]]}\")\n",
        "\n",
        "# Perform a stratified split to ensure all classes are represented in both training and testing sets\n",
        "train_features, test_features, train_labels, test_labels = train_test_split(\n",
        "    audio_features, labels, test_size=0.2, random_state=42, stratify=labels\n",
        ")\n",
        "\n",
        "# After splitting, print a few label-name pairs from the training set\n",
        "for i in range(5):  # Checking first 5 audio samples and their labels\n",
        "    print(f\"Training audio {i}: Label = {train_labels[i]}, Name = {class_names[train_labels[i]]}\")\n",
        "\n",
        "# Print shapes of the datasets\n",
        "print(\"Training features shape:\", train_features.shape)\n",
        "print(\"Training labels shape:\", train_labels.shape)\n",
        "print(\"Testing features shape:\", test_features.shape)\n",
        "print(\"Testing labels shape:\", test_labels.shape)\n"
      ],
      "metadata": {
        "colab": {
          "base_uri": "https://localhost:8080/"
        },
        "id": "Ao8_rPNpsm3H",
        "outputId": "87ceff86-b361-4bc8-f9af-9bf910d2e49a"
      },
      "execution_count": 11,
      "outputs": [
        {
          "output_type": "stream",
          "name": "stdout",
          "text": [
            "Class names (labels): ['arshia', 'aruv']\n"
          ]
        },
        {
          "output_type": "stream",
          "name": "stderr",
          "text": [
            "<ipython-input-11-aa5401c1d2f2>:30: UserWarning: PySoundFile failed. Trying audioread instead.\n",
            "  y, sr = librosa.load(audio_path, sr=22050)\n",
            "/usr/local/lib/python3.11/dist-packages/librosa/core/audio.py:184: FutureWarning: librosa.core.audio.__audioread_load\n",
            "\tDeprecated as of librosa version 0.10.0.\n",
            "\tIt will be removed in librosa version 1.0.\n",
            "  y, sr_native = __audioread_load(path, offset, duration, dtype)\n",
            "<ipython-input-11-aa5401c1d2f2>:30: UserWarning: PySoundFile failed. Trying audioread instead.\n",
            "  y, sr = librosa.load(audio_path, sr=22050)\n",
            "/usr/local/lib/python3.11/dist-packages/librosa/core/audio.py:184: FutureWarning: librosa.core.audio.__audioread_load\n",
            "\tDeprecated as of librosa version 0.10.0.\n",
            "\tIt will be removed in librosa version 1.0.\n",
            "  y, sr_native = __audioread_load(path, offset, duration, dtype)\n",
            "<ipython-input-11-aa5401c1d2f2>:30: UserWarning: PySoundFile failed. Trying audioread instead.\n",
            "  y, sr = librosa.load(audio_path, sr=22050)\n",
            "/usr/local/lib/python3.11/dist-packages/librosa/core/audio.py:184: FutureWarning: librosa.core.audio.__audioread_load\n",
            "\tDeprecated as of librosa version 0.10.0.\n",
            "\tIt will be removed in librosa version 1.0.\n",
            "  y, sr_native = __audioread_load(path, offset, duration, dtype)\n",
            "<ipython-input-11-aa5401c1d2f2>:30: UserWarning: PySoundFile failed. Trying audioread instead.\n",
            "  y, sr = librosa.load(audio_path, sr=22050)\n",
            "/usr/local/lib/python3.11/dist-packages/librosa/core/audio.py:184: FutureWarning: librosa.core.audio.__audioread_load\n",
            "\tDeprecated as of librosa version 0.10.0.\n",
            "\tIt will be removed in librosa version 1.0.\n",
            "  y, sr_native = __audioread_load(path, offset, duration, dtype)\n",
            "<ipython-input-11-aa5401c1d2f2>:30: UserWarning: PySoundFile failed. Trying audioread instead.\n",
            "  y, sr = librosa.load(audio_path, sr=22050)\n",
            "/usr/local/lib/python3.11/dist-packages/librosa/core/audio.py:184: FutureWarning: librosa.core.audio.__audioread_load\n",
            "\tDeprecated as of librosa version 0.10.0.\n",
            "\tIt will be removed in librosa version 1.0.\n",
            "  y, sr_native = __audioread_load(path, offset, duration, dtype)\n",
            "<ipython-input-11-aa5401c1d2f2>:30: UserWarning: PySoundFile failed. Trying audioread instead.\n",
            "  y, sr = librosa.load(audio_path, sr=22050)\n",
            "/usr/local/lib/python3.11/dist-packages/librosa/core/audio.py:184: FutureWarning: librosa.core.audio.__audioread_load\n",
            "\tDeprecated as of librosa version 0.10.0.\n",
            "\tIt will be removed in librosa version 1.0.\n",
            "  y, sr_native = __audioread_load(path, offset, duration, dtype)\n",
            "<ipython-input-11-aa5401c1d2f2>:30: UserWarning: PySoundFile failed. Trying audioread instead.\n",
            "  y, sr = librosa.load(audio_path, sr=22050)\n",
            "/usr/local/lib/python3.11/dist-packages/librosa/core/audio.py:184: FutureWarning: librosa.core.audio.__audioread_load\n",
            "\tDeprecated as of librosa version 0.10.0.\n",
            "\tIt will be removed in librosa version 1.0.\n",
            "  y, sr_native = __audioread_load(path, offset, duration, dtype)\n",
            "<ipython-input-11-aa5401c1d2f2>:30: UserWarning: PySoundFile failed. Trying audioread instead.\n",
            "  y, sr = librosa.load(audio_path, sr=22050)\n",
            "/usr/local/lib/python3.11/dist-packages/librosa/core/audio.py:184: FutureWarning: librosa.core.audio.__audioread_load\n",
            "\tDeprecated as of librosa version 0.10.0.\n",
            "\tIt will be removed in librosa version 1.0.\n",
            "  y, sr_native = __audioread_load(path, offset, duration, dtype)\n",
            "<ipython-input-11-aa5401c1d2f2>:30: UserWarning: PySoundFile failed. Trying audioread instead.\n",
            "  y, sr = librosa.load(audio_path, sr=22050)\n",
            "/usr/local/lib/python3.11/dist-packages/librosa/core/audio.py:184: FutureWarning: librosa.core.audio.__audioread_load\n",
            "\tDeprecated as of librosa version 0.10.0.\n",
            "\tIt will be removed in librosa version 1.0.\n",
            "  y, sr_native = __audioread_load(path, offset, duration, dtype)\n",
            "<ipython-input-11-aa5401c1d2f2>:30: UserWarning: PySoundFile failed. Trying audioread instead.\n",
            "  y, sr = librosa.load(audio_path, sr=22050)\n",
            "/usr/local/lib/python3.11/dist-packages/librosa/core/audio.py:184: FutureWarning: librosa.core.audio.__audioread_load\n",
            "\tDeprecated as of librosa version 0.10.0.\n",
            "\tIt will be removed in librosa version 1.0.\n",
            "  y, sr_native = __audioread_load(path, offset, duration, dtype)\n",
            "<ipython-input-11-aa5401c1d2f2>:30: UserWarning: PySoundFile failed. Trying audioread instead.\n",
            "  y, sr = librosa.load(audio_path, sr=22050)\n",
            "/usr/local/lib/python3.11/dist-packages/librosa/core/audio.py:184: FutureWarning: librosa.core.audio.__audioread_load\n",
            "\tDeprecated as of librosa version 0.10.0.\n",
            "\tIt will be removed in librosa version 1.0.\n",
            "  y, sr_native = __audioread_load(path, offset, duration, dtype)\n",
            "<ipython-input-11-aa5401c1d2f2>:30: UserWarning: PySoundFile failed. Trying audioread instead.\n",
            "  y, sr = librosa.load(audio_path, sr=22050)\n",
            "/usr/local/lib/python3.11/dist-packages/librosa/core/audio.py:184: FutureWarning: librosa.core.audio.__audioread_load\n",
            "\tDeprecated as of librosa version 0.10.0.\n",
            "\tIt will be removed in librosa version 1.0.\n",
            "  y, sr_native = __audioread_load(path, offset, duration, dtype)\n",
            "<ipython-input-11-aa5401c1d2f2>:30: UserWarning: PySoundFile failed. Trying audioread instead.\n",
            "  y, sr = librosa.load(audio_path, sr=22050)\n",
            "/usr/local/lib/python3.11/dist-packages/librosa/core/audio.py:184: FutureWarning: librosa.core.audio.__audioread_load\n",
            "\tDeprecated as of librosa version 0.10.0.\n",
            "\tIt will be removed in librosa version 1.0.\n",
            "  y, sr_native = __audioread_load(path, offset, duration, dtype)\n",
            "<ipython-input-11-aa5401c1d2f2>:30: UserWarning: PySoundFile failed. Trying audioread instead.\n",
            "  y, sr = librosa.load(audio_path, sr=22050)\n",
            "/usr/local/lib/python3.11/dist-packages/librosa/core/audio.py:184: FutureWarning: librosa.core.audio.__audioread_load\n",
            "\tDeprecated as of librosa version 0.10.0.\n",
            "\tIt will be removed in librosa version 1.0.\n",
            "  y, sr_native = __audioread_load(path, offset, duration, dtype)\n",
            "<ipython-input-11-aa5401c1d2f2>:30: UserWarning: PySoundFile failed. Trying audioread instead.\n",
            "  y, sr = librosa.load(audio_path, sr=22050)\n",
            "/usr/local/lib/python3.11/dist-packages/librosa/core/audio.py:184: FutureWarning: librosa.core.audio.__audioread_load\n",
            "\tDeprecated as of librosa version 0.10.0.\n",
            "\tIt will be removed in librosa version 1.0.\n",
            "  y, sr_native = __audioread_load(path, offset, duration, dtype)\n"
          ]
        },
        {
          "output_type": "stream",
          "name": "stdout",
          "text": [
            "Audio 0: Label = 0 -> arshia\n",
            "Audio 1: Label = 0 -> arshia\n",
            "Audio 2: Label = 0 -> arshia\n",
            "Audio 3: Label = 0 -> arshia\n",
            "Audio 4: Label = 0 -> arshia\n",
            "Training audio 0: Label = 1, Name = aruv\n",
            "Training audio 1: Label = 1, Name = aruv\n",
            "Training audio 2: Label = 0, Name = arshia\n",
            "Training audio 3: Label = 1, Name = aruv\n",
            "Training audio 4: Label = 1, Name = aruv\n",
            "Training features shape: (12, 40)\n",
            "Training labels shape: (12,)\n",
            "Testing features shape: (3, 40)\n",
            "Testing labels shape: (3,)\n"
          ]
        }
      ]
    },
    {
      "cell_type": "code",
      "source": [
        "# import matplotlib.pyplot as plt\n",
        "# import librosa.display\n",
        "# import IPython.display as ipd\n",
        "\n",
        "# # Display an audio waveform from the training dataset\n",
        "# plt.figure(figsize=(10, 4))\n",
        "# y, sr = librosa.load(os.path.join(dataset_dir, class_names[train_labels[1]], f\"{class_names[train_labels[1]]}_0.wav\"), sr=22050)\n",
        "# librosa.display.waveshow(y, sr=sr)\n",
        "# plt.title(f\"Waveform of {class_names[train_labels[1]]}\")\n",
        "# plt.xlabel(\"Time (seconds)\")\n",
        "# plt.ylabel(\"Amplitude\")\n",
        "# plt.grid()\n",
        "# plt.show()\n",
        "\n",
        "# # Play the audio file\n",
        "# ipd.Audio(y, rate=sr)\n"
      ],
      "metadata": {
        "id": "3u0CIQSmtDA8"
      },
      "execution_count": 15,
      "outputs": []
    },
    {
      "cell_type": "code",
      "source": [
        "import matplotlib.pyplot as plt\n",
        "import librosa.display\n",
        "\n",
        "num_audios = min(len(train_features), 36)  # Limit to 36 for visualization\n",
        "plt.figure(figsize=(10, 10))  # Adjust figure size\n",
        "\n",
        "for i in range(num_audios):  # Loop through only existing audio samples\n",
        "    plt.subplot(6, 6, i + 1)  # Create a 6x6 grid\n",
        "    plt.xticks([])\n",
        "    plt.yticks([])\n",
        "    plt.grid(False)\n",
        "\n",
        "    y, sr = librosa.load(os.path.join(dataset_dir, class_names[train_labels[i]], f\"{class_names[train_labels[i]]}_0.wav\"), sr=22050)\n",
        "    librosa.display.waveshow(y, sr=sr)\n",
        "    plt.xlabel(class_names[train_labels[i]])  # Show person's name\n",
        "\n",
        "plt.tight_layout()\n",
        "plt.show()\n"
      ],
      "metadata": {
        "colab": {
          "base_uri": "https://localhost:8080/",
          "height": 1000
        },
        "id": "Fa7IgL42t7zM",
        "outputId": "948cd7ff-6668-43db-8157-285bbf039ecd"
      },
      "execution_count": 16,
      "outputs": [
        {
          "output_type": "stream",
          "name": "stderr",
          "text": [
            "<ipython-input-16-07666a4c4e4a>:13: UserWarning: PySoundFile failed. Trying audioread instead.\n",
            "  y, sr = librosa.load(os.path.join(dataset_dir, class_names[train_labels[i]], f\"{class_names[train_labels[i]]}_0.wav\"), sr=22050)\n",
            "/usr/local/lib/python3.11/dist-packages/librosa/core/audio.py:184: FutureWarning: librosa.core.audio.__audioread_load\n",
            "\tDeprecated as of librosa version 0.10.0.\n",
            "\tIt will be removed in librosa version 1.0.\n",
            "  y, sr_native = __audioread_load(path, offset, duration, dtype)\n",
            "<ipython-input-16-07666a4c4e4a>:13: UserWarning: PySoundFile failed. Trying audioread instead.\n",
            "  y, sr = librosa.load(os.path.join(dataset_dir, class_names[train_labels[i]], f\"{class_names[train_labels[i]]}_0.wav\"), sr=22050)\n",
            "/usr/local/lib/python3.11/dist-packages/librosa/core/audio.py:184: FutureWarning: librosa.core.audio.__audioread_load\n",
            "\tDeprecated as of librosa version 0.10.0.\n",
            "\tIt will be removed in librosa version 1.0.\n",
            "  y, sr_native = __audioread_load(path, offset, duration, dtype)\n",
            "<ipython-input-16-07666a4c4e4a>:13: UserWarning: PySoundFile failed. Trying audioread instead.\n",
            "  y, sr = librosa.load(os.path.join(dataset_dir, class_names[train_labels[i]], f\"{class_names[train_labels[i]]}_0.wav\"), sr=22050)\n",
            "/usr/local/lib/python3.11/dist-packages/librosa/core/audio.py:184: FutureWarning: librosa.core.audio.__audioread_load\n",
            "\tDeprecated as of librosa version 0.10.0.\n",
            "\tIt will be removed in librosa version 1.0.\n",
            "  y, sr_native = __audioread_load(path, offset, duration, dtype)\n",
            "<ipython-input-16-07666a4c4e4a>:13: UserWarning: PySoundFile failed. Trying audioread instead.\n",
            "  y, sr = librosa.load(os.path.join(dataset_dir, class_names[train_labels[i]], f\"{class_names[train_labels[i]]}_0.wav\"), sr=22050)\n",
            "/usr/local/lib/python3.11/dist-packages/librosa/core/audio.py:184: FutureWarning: librosa.core.audio.__audioread_load\n",
            "\tDeprecated as of librosa version 0.10.0.\n",
            "\tIt will be removed in librosa version 1.0.\n",
            "  y, sr_native = __audioread_load(path, offset, duration, dtype)\n",
            "<ipython-input-16-07666a4c4e4a>:13: UserWarning: PySoundFile failed. Trying audioread instead.\n",
            "  y, sr = librosa.load(os.path.join(dataset_dir, class_names[train_labels[i]], f\"{class_names[train_labels[i]]}_0.wav\"), sr=22050)\n",
            "/usr/local/lib/python3.11/dist-packages/librosa/core/audio.py:184: FutureWarning: librosa.core.audio.__audioread_load\n",
            "\tDeprecated as of librosa version 0.10.0.\n",
            "\tIt will be removed in librosa version 1.0.\n",
            "  y, sr_native = __audioread_load(path, offset, duration, dtype)\n",
            "<ipython-input-16-07666a4c4e4a>:13: UserWarning: PySoundFile failed. Trying audioread instead.\n",
            "  y, sr = librosa.load(os.path.join(dataset_dir, class_names[train_labels[i]], f\"{class_names[train_labels[i]]}_0.wav\"), sr=22050)\n",
            "/usr/local/lib/python3.11/dist-packages/librosa/core/audio.py:184: FutureWarning: librosa.core.audio.__audioread_load\n",
            "\tDeprecated as of librosa version 0.10.0.\n",
            "\tIt will be removed in librosa version 1.0.\n",
            "  y, sr_native = __audioread_load(path, offset, duration, dtype)\n",
            "<ipython-input-16-07666a4c4e4a>:13: UserWarning: PySoundFile failed. Trying audioread instead.\n",
            "  y, sr = librosa.load(os.path.join(dataset_dir, class_names[train_labels[i]], f\"{class_names[train_labels[i]]}_0.wav\"), sr=22050)\n",
            "/usr/local/lib/python3.11/dist-packages/librosa/core/audio.py:184: FutureWarning: librosa.core.audio.__audioread_load\n",
            "\tDeprecated as of librosa version 0.10.0.\n",
            "\tIt will be removed in librosa version 1.0.\n",
            "  y, sr_native = __audioread_load(path, offset, duration, dtype)\n",
            "<ipython-input-16-07666a4c4e4a>:13: UserWarning: PySoundFile failed. Trying audioread instead.\n",
            "  y, sr = librosa.load(os.path.join(dataset_dir, class_names[train_labels[i]], f\"{class_names[train_labels[i]]}_0.wav\"), sr=22050)\n",
            "/usr/local/lib/python3.11/dist-packages/librosa/core/audio.py:184: FutureWarning: librosa.core.audio.__audioread_load\n",
            "\tDeprecated as of librosa version 0.10.0.\n",
            "\tIt will be removed in librosa version 1.0.\n",
            "  y, sr_native = __audioread_load(path, offset, duration, dtype)\n",
            "<ipython-input-16-07666a4c4e4a>:13: UserWarning: PySoundFile failed. Trying audioread instead.\n",
            "  y, sr = librosa.load(os.path.join(dataset_dir, class_names[train_labels[i]], f\"{class_names[train_labels[i]]}_0.wav\"), sr=22050)\n",
            "/usr/local/lib/python3.11/dist-packages/librosa/core/audio.py:184: FutureWarning: librosa.core.audio.__audioread_load\n",
            "\tDeprecated as of librosa version 0.10.0.\n",
            "\tIt will be removed in librosa version 1.0.\n",
            "  y, sr_native = __audioread_load(path, offset, duration, dtype)\n",
            "<ipython-input-16-07666a4c4e4a>:13: UserWarning: PySoundFile failed. Trying audioread instead.\n",
            "  y, sr = librosa.load(os.path.join(dataset_dir, class_names[train_labels[i]], f\"{class_names[train_labels[i]]}_0.wav\"), sr=22050)\n",
            "/usr/local/lib/python3.11/dist-packages/librosa/core/audio.py:184: FutureWarning: librosa.core.audio.__audioread_load\n",
            "\tDeprecated as of librosa version 0.10.0.\n",
            "\tIt will be removed in librosa version 1.0.\n",
            "  y, sr_native = __audioread_load(path, offset, duration, dtype)\n",
            "<ipython-input-16-07666a4c4e4a>:13: UserWarning: PySoundFile failed. Trying audioread instead.\n",
            "  y, sr = librosa.load(os.path.join(dataset_dir, class_names[train_labels[i]], f\"{class_names[train_labels[i]]}_0.wav\"), sr=22050)\n",
            "/usr/local/lib/python3.11/dist-packages/librosa/core/audio.py:184: FutureWarning: librosa.core.audio.__audioread_load\n",
            "\tDeprecated as of librosa version 0.10.0.\n",
            "\tIt will be removed in librosa version 1.0.\n",
            "  y, sr_native = __audioread_load(path, offset, duration, dtype)\n",
            "<ipython-input-16-07666a4c4e4a>:13: UserWarning: PySoundFile failed. Trying audioread instead.\n",
            "  y, sr = librosa.load(os.path.join(dataset_dir, class_names[train_labels[i]], f\"{class_names[train_labels[i]]}_0.wav\"), sr=22050)\n",
            "/usr/local/lib/python3.11/dist-packages/librosa/core/audio.py:184: FutureWarning: librosa.core.audio.__audioread_load\n",
            "\tDeprecated as of librosa version 0.10.0.\n",
            "\tIt will be removed in librosa version 1.0.\n",
            "  y, sr_native = __audioread_load(path, offset, duration, dtype)\n"
          ]
        },
        {
          "output_type": "display_data",
          "data": {
            "text/plain": [
              "<Figure size 1000x1000 with 12 Axes>"
            ],
            "image/png": "[encoded data removed]"
          },
          "metadata": {}
        }
      ]
    },
    {
      "cell_type": "code",
      "source": [
        "import tensorflow as tf\n",
        "from tensorflow import keras\n",
        "\n",
        "# Define the model for voice recognition\n",
        "model = keras.Sequential([\n",
        "    keras.layers.Input(shape=(40,)),  # 40 MFCC features as input\n",
        "    keras.layers.Dense(128, activation='relu'),  # Hidden layer with 128 neurons\n",
        "    keras.layers.Dense(64, activation='relu'),  # Another hidden layer\n",
        "    keras.layers.Dense(len(class_names), activation='softmax')  # Output layer (number of classes = number of people)\n",
        "])\n"
      ],
      "metadata": {
        "id": "Qw1PIAs0uQ-Y"
      },
      "execution_count": 17,
      "outputs": []
    },
    {
      "cell_type": "code",
      "source": [
        "model.compile(optimizer='adam',\n",
        "              loss='sparse_categorical_crossentropy',  # or 'categorical_crossentropy' for one-hot labels\n",
        "              metrics=['accuracy'])"
      ],
      "metadata": {
        "id": "jq73h-kLum_b"
      },
      "execution_count": 18,
      "outputs": []
    },
    {
      "cell_type": "code",
      "source": [
        "model.fit(train_features, train_labels, epochs=20, validation_split=0.2)"
      ],
      "metadata": {
        "colab": {
          "base_uri": "https://localhost:8080/"
        },
        "id": "qsjDoscVvpg6",
        "outputId": "1ee87e3c-d585-4c9d-b95b-25a30ecbfaff"
      },
      "execution_count": 19,
      "outputs": [
        {
          "output_type": "stream",
          "name": "stdout",
          "text": [
            "Epoch 1/20\n",
            "\u001b[1m1/1\u001b[0m \u001b[32m━━━━━━━━━━━━━━━━━━━━\u001b[0m\u001b[37m\u001b[0m \u001b[1m2s\u001b[0m 2s/step - accuracy: 0.3333 - loss: 7.5348 - val_accuracy: 0.6667 - val_loss: 4.1918\n",
            "Epoch 2/20\n",
            "\u001b[1m1/1\u001b[0m \u001b[32m━━━━━━━━━━━━━━━━━━━━\u001b[0m\u001b[37m\u001b[0m \u001b[1m0s\u001b[0m 252ms/step - accuracy: 0.5556 - loss: 3.7825 - val_accuracy: 0.6667 - val_loss: 5.6854\n",
            "Epoch 3/20\n",
            "\u001b[1m1/1\u001b[0m \u001b[32m━━━━━━━━━━━━━━━━━━━━\u001b[0m\u001b[37m\u001b[0m \u001b[1m0s\u001b[0m 181ms/step - accuracy: 0.6667 - loss: 4.9237 - val_accuracy: 0.6667 - val_loss: 4.9540\n",
            "Epoch 4/20\n",
            "\u001b[1m1/1\u001b[0m \u001b[32m━━━━━━━━━━━━━━━━━━━━\u001b[0m\u001b[37m\u001b[0m \u001b[1m0s\u001b[0m 218ms/step - accuracy: 0.6667 - loss: 4.1018 - val_accuracy: 0.6667 - val_loss: 3.0421\n",
            "Epoch 5/20\n",
            "\u001b[1m1/1\u001b[0m \u001b[32m━━━━━━━━━━━━━━━━━━━━\u001b[0m\u001b[37m\u001b[0m \u001b[1m0s\u001b[0m 143ms/step - accuracy: 0.6667 - loss: 2.0759 - val_accuracy: 0.3333 - val_loss: 1.2466\n",
            "Epoch 6/20\n",
            "\u001b[1m1/1\u001b[0m \u001b[32m━━━━━━━━━━━━━━━━━━━━\u001b[0m\u001b[37m\u001b[0m \u001b[1m0s\u001b[0m 86ms/step - accuracy: 0.5556 - loss: 0.9133 - val_accuracy: 0.3333 - val_loss: 2.4718\n",
            "Epoch 7/20\n",
            "\u001b[1m1/1\u001b[0m \u001b[32m━━━━━━━━━━━━━━━━━━━━\u001b[0m\u001b[37m\u001b[0m \u001b[1m0s\u001b[0m 80ms/step - accuracy: 0.4444 - loss: 1.8952 - val_accuracy: 0.3333 - val_loss: 2.0095\n",
            "Epoch 8/20\n",
            "\u001b[1m1/1\u001b[0m \u001b[32m━━━━━━━━━━━━━━━━━━━━\u001b[0m\u001b[37m\u001b[0m \u001b[1m0s\u001b[0m 97ms/step - accuracy: 0.5556 - loss: 1.2980 - val_accuracy: 0.6667 - val_loss: 0.7002\n",
            "Epoch 9/20\n",
            "\u001b[1m1/1\u001b[0m \u001b[32m━━━━━━━━━━━━━━━━━━━━\u001b[0m\u001b[37m\u001b[0m \u001b[1m0s\u001b[0m 126ms/step - accuracy: 0.7778 - loss: 0.4285 - val_accuracy: 0.6667 - val_loss: 0.8900\n",
            "Epoch 10/20\n",
            "\u001b[1m1/1\u001b[0m \u001b[32m━━━━━━━━━━━━━━━━━━━━\u001b[0m\u001b[37m\u001b[0m \u001b[1m0s\u001b[0m 78ms/step - accuracy: 0.8889 - loss: 0.5827 - val_accuracy: 0.6667 - val_loss: 1.3998\n",
            "Epoch 11/20\n",
            "\u001b[1m1/1\u001b[0m \u001b[32m━━━━━━━━━━━━━━━━━━━━\u001b[0m\u001b[37m\u001b[0m \u001b[1m0s\u001b[0m 150ms/step - accuracy: 0.8889 - loss: 0.7878 - val_accuracy: 0.6667 - val_loss: 1.5506\n",
            "Epoch 12/20\n",
            "\u001b[1m1/1\u001b[0m \u001b[32m━━━━━━━━━━━━━━━━━━━━\u001b[0m\u001b[37m\u001b[0m \u001b[1m0s\u001b[0m 73ms/step - accuracy: 0.8889 - loss: 0.8322 - val_accuracy: 0.6667 - val_loss: 1.3250\n",
            "Epoch 13/20\n",
            "\u001b[1m1/1\u001b[0m \u001b[32m━━━━━━━━━━━━━━━━━━━━\u001b[0m\u001b[37m\u001b[0m \u001b[1m0s\u001b[0m 79ms/step - accuracy: 0.8889 - loss: 0.7122 - val_accuracy: 0.6667 - val_loss: 0.8054\n",
            "Epoch 14/20\n",
            "\u001b[1m1/1\u001b[0m \u001b[32m━━━━━━━━━━━━━━━━━━━━\u001b[0m\u001b[37m\u001b[0m \u001b[1m0s\u001b[0m 81ms/step - accuracy: 0.8889 - loss: 0.4843 - val_accuracy: 1.0000 - val_loss: 0.2575\n",
            "Epoch 15/20\n",
            "\u001b[1m1/1\u001b[0m \u001b[32m━━━━━━━━━━━━━━━━━━━━\u001b[0m\u001b[37m\u001b[0m \u001b[1m0s\u001b[0m 87ms/step - accuracy: 0.8889 - loss: 0.1988 - val_accuracy: 0.6667 - val_loss: 0.2574\n",
            "Epoch 16/20\n",
            "\u001b[1m1/1\u001b[0m \u001b[32m━━━━━━━━━━━━━━━━━━━━\u001b[0m\u001b[37m\u001b[0m \u001b[1m0s\u001b[0m 138ms/step - accuracy: 1.0000 - loss: 0.0868 - val_accuracy: 0.6667 - val_loss: 0.6056\n",
            "Epoch 17/20\n",
            "\u001b[1m1/1\u001b[0m \u001b[32m━━━━━━━━━━━━━━━━━━━━\u001b[0m\u001b[37m\u001b[0m \u001b[1m0s\u001b[0m 122ms/step - accuracy: 0.8889 - loss: 0.2212 - val_accuracy: 0.6667 - val_loss: 0.8268\n",
            "Epoch 18/20\n",
            "\u001b[1m1/1\u001b[0m \u001b[32m━━━━━━━━━━━━━━━━━━━━\u001b[0m\u001b[37m\u001b[0m \u001b[1m0s\u001b[0m 93ms/step - accuracy: 0.8889 - loss: 0.3246 - val_accuracy: 0.6667 - val_loss: 0.7342\n",
            "Epoch 19/20\n",
            "\u001b[1m1/1\u001b[0m \u001b[32m━━━━━━━━━━━━━━━━━━━━\u001b[0m\u001b[37m\u001b[0m \u001b[1m0s\u001b[0m 81ms/step - accuracy: 0.8889 - loss: 0.2746 - val_accuracy: 0.6667 - val_loss: 0.4381\n",
            "Epoch 20/20\n",
            "\u001b[1m1/1\u001b[0m \u001b[32m━━━━━━━━━━━━━━━━━━━━\u001b[0m\u001b[37m\u001b[0m \u001b[1m0s\u001b[0m 85ms/step - accuracy: 0.8889 - loss: 0.1400 - val_accuracy: 1.0000 - val_loss: 0.1648\n"
          ]
        },
        {
          "output_type": "execute_result",
          "data": {
            "text/plain": [
              "<keras.src.callbacks.history.History at 0x7ab8917ab590>"
            ]
          },
          "metadata": {},
          "execution_count": 19
        }
      ]
    },
    {
      "cell_type": "code",
      "source": [
        "test_loss, test_acc = model.evaluate(test_features, test_labels, verbose=1)\n",
        "print('Test accuracy:', test_acc)"
      ],
      "metadata": {
        "colab": {
          "base_uri": "https://localhost:8080/"
        },
        "id": "Uiv6I2zNvwJw",
        "outputId": "271da74d-d975-48c3-c754-8f03f74f78c3"
      },
      "execution_count": 20,
      "outputs": [
        {
          "output_type": "stream",
          "name": "stdout",
          "text": [
            "\u001b[1m1/1\u001b[0m \u001b[32m━━━━━━━━━━━━━━━━━━━━\u001b[0m\u001b[37m\u001b[0m \u001b[1m0s\u001b[0m 38ms/step - accuracy: 1.0000 - loss: 0.0064\n",
            "Test accuracy: 1.0\n"
          ]
        }
      ]
    },
    {
      "cell_type": "code",
      "source": [
        "import numpy as np\n",
        "import matplotlib.pyplot as plt\n",
        "import librosa\n",
        "import librosa.display\n",
        "\n",
        "# Function to capture audio\n",
        "def record_audio(person_name, audio_count, duration=5):\n",
        "    js = Javascript('''\n",
        "        async function recordAudio(duration) {\n",
        "            const stream = await navigator.mediaDevices.getUserMedia({ audio: true });\n",
        "            const mediaRecorder = new MediaRecorder(stream);\n",
        "            let chunks = [];\n",
        "\n",
        "            mediaRecorder.ondataavailable = event => chunks.push(event.data);\n",
        "            mediaRecorder.start();\n",
        "\n",
        "            await new Promise(resolve => setTimeout(resolve, duration * 1000));\n",
        "\n",
        "            mediaRecorder.stop();\n",
        "            await new Promise(resolve => mediaRecorder.onstop = resolve);\n",
        "\n",
        "            const blob = new Blob(chunks, { type: 'audio/wav' });\n",
        "            const reader = new FileReader();\n",
        "            reader.readAsDataURL(blob);\n",
        "            await new Promise(resolve => reader.onloadend = resolve);\n",
        "            return reader.result;\n",
        "        }\n",
        "    ''')\n",
        "    display(js)\n",
        "    data = eval_js(f'recordAudio({duration})')\n",
        "    audio_binary = base64.b64decode(data.split(',')[1])\n",
        "\n",
        "    # Define path in Google Drive\n",
        "    dataset_dir = \"/content/drive/MyDrive/voice_recognition_dataset\"\n",
        "    person_folder = os.path.join(dataset_dir, person_name)\n",
        "    if not os.path.exists(person_folder):\n",
        "        os.makedirs(person_folder)\n",
        "\n",
        "    filename = os.path.join(person_folder, f\"{person_name}_{audio_count}.wav\")\n",
        "\n",
        "    # Save audio\n",
        "    with open(filename, 'wb') as f:\n",
        "        f.write(audio_binary)\n",
        "\n",
        "    print(f\"✅ Audio saved at: {filename}\")\n",
        "    return filename\n",
        "\n",
        "# Function to preprocess the captured audio (Extract MFCC features)\n",
        "def preprocess_audio(audio_path, num_mfcc=40):\n",
        "    y, sr = librosa.load(audio_path, sr=22050)\n",
        "    mfcc = librosa.feature.mfcc(y=y, sr=sr, n_mfcc=num_mfcc)\n",
        "    mfcc = np.mean(mfcc, axis=1)  # Averaging MFCC features over time axis\n",
        "    return mfcc\n",
        "\n",
        "# Function to predict the person's name based on the audio\n",
        "def predict_voice(model, audio, class_names):\n",
        "    prediction = model.predict(np.array([audio]))  # Shape: (1, num_classes)\n",
        "    print(\"Predicted probabilities:\", prediction)\n",
        "    predicted_class_index = np.argmax(prediction)  # Get index of highest probability\n",
        "    predicted_class = class_names[predicted_class_index]\n",
        "    return predicted_class\n",
        "\n",
        "# Function to display the result (predicted person's name)\n",
        "def show_voice_prediction(predicted_class):\n",
        "    print(f\"Predicted person: {predicted_class}\")\n",
        "\n",
        "# Step 1: Capture an audio file (example, replace with actual record_audio call)\n",
        "captured_audio_path = record_audio('Output', 0)\n",
        "\n",
        "# Step 2: Preprocess the captured audio\n",
        "captured_audio = preprocess_audio(captured_audio_path)\n",
        "\n",
        "# Step 3: Predict the voice\n",
        "predicted_class = predict_voice(model, captured_audio, class_names)\n",
        "\n",
        "# Step 4: Display the result\n",
        "show_voice_prediction(predicted_class)\n"
      ],
      "metadata": {
        "colab": {
          "base_uri": "https://localhost:8080/",
          "height": 191
        },
        "id": "EKVDYR5tv076",
        "outputId": "76d43445-007c-4aea-b19b-a226cc74fc79"
      },
      "execution_count": 26,
      "outputs": [
        {
          "output_type": "display_data",
          "data": {
            "text/plain": [
              "<IPython.core.display.Javascript object>"
            ],
            "application/javascript": [
              "\n",
              "        async function recordAudio(duration) {\n",
              "            const stream = await navigator.mediaDevices.getUserMedia({ audio: true });\n",
              "            const mediaRecorder = new MediaRecorder(stream);\n",
              "            let chunks = [];\n",
              "\n",
              "            mediaRecorder.ondataavailable = event => chunks.push(event.data);\n",
              "            mediaRecorder.start();\n",
              "            \n",
              "            await new Promise(resolve => setTimeout(resolve, duration * 1000));\n",
              "            \n",
              "            mediaRecorder.stop();\n",
              "            await new Promise(resolve => mediaRecorder.onstop = resolve);\n",
              "            \n",
              "            const blob = new Blob(chunks, { type: 'audio/wav' });\n",
              "            const reader = new FileReader();\n",
              "            reader.readAsDataURL(blob);\n",
              "            await new Promise(resolve => reader.onloadend = resolve);\n",
              "            return reader.result;\n",
              "        }\n",
              "    "
            ]
          },
          "metadata": {}
        },
        {
          "output_type": "stream",
          "name": "stdout",
          "text": [
            "✅ Audio saved at: /content/drive/MyDrive/voice_recognition_dataset/Output/Output_0.wav\n"
          ]
        },
        {
          "output_type": "stream",
          "name": "stderr",
          "text": [
            "<ipython-input-26-145b3b122571>:50: UserWarning: PySoundFile failed. Trying audioread instead.\n",
            "  y, sr = librosa.load(audio_path, sr=22050)\n",
            "/usr/local/lib/python3.11/dist-packages/librosa/core/audio.py:184: FutureWarning: librosa.core.audio.__audioread_load\n",
            "\tDeprecated as of librosa version 0.10.0.\n",
            "\tIt will be removed in librosa version 1.0.\n",
            "  y, sr_native = __audioread_load(path, offset, duration, dtype)\n"
          ]
        },
        {
          "output_type": "stream",
          "name": "stdout",
          "text": [
            "\u001b[1m1/1\u001b[0m \u001b[32m━━━━━━━━━━━━━━━━━━━━\u001b[0m\u001b[37m\u001b[0m \u001b[1m0s\u001b[0m 79ms/step\n",
            "Predicted probabilities: [[0.7341786  0.26582137]]\n",
            "Predicted person: arshia\n"
          ]
        }
      ]
    }
  ]
}